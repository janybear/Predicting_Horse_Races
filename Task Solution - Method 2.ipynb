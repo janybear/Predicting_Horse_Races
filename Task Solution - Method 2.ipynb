{
 "cells": [
  {
   "cell_type": "markdown",
   "id": "7fe154f6",
   "metadata": {},
   "source": [
    "# Predicting Horse Race Outcomes : using lightGBM-Ranker\n",
    "\n",
    "1. A boosting method\n",
    "2. This Ranker model can take any size of input through position normalization\n",
    "3. Hyperparameters have not yet been tuned - remember to do this"
   ]
  },
  {
   "cell_type": "code",
   "execution_count": 9,
   "id": "644a729a",
   "metadata": {},
   "outputs": [
    {
     "name": "stdout",
     "output_type": "stream",
     "text": [
      "Defaulting to user installation because normal site-packages is not writeable\n",
      "Requirement already satisfied: lightgbm in c:\\users\\user\\appdata\\roaming\\python\\python311\\site-packages (4.5.0)\n",
      "Requirement already satisfied: numpy>=1.17.0 in c:\\programdata\\anaconda3\\lib\\site-packages (from lightgbm) (1.24.3)\n",
      "Requirement already satisfied: scipy in c:\\programdata\\anaconda3\\lib\\site-packages (from lightgbm) (1.10.1)\n",
      "Note: you may need to restart the kernel to use updated packages.\n"
     ]
    }
   ],
   "source": [
    "pip install lightgbm"
   ]
  },
  {
   "cell_type": "code",
   "execution_count": 1,
   "id": "4a878eb9",
   "metadata": {},
   "outputs": [],
   "source": [
    "import numpy as np\n",
    "import pandas as pd\n",
    "import matplotlib.pyplot as plt\n",
    "import seaborn as sns"
   ]
  },
  {
   "cell_type": "code",
   "execution_count": 2,
   "id": "104ce63f",
   "metadata": {},
   "outputs": [],
   "source": [
    "#definitions\n",
    "def normalize(df, column_name):\n",
    "    df_norm = (df[column_name] - df[column_name].min()) / (df[column_name].max() - df[column_name].min())   \n",
    "    return df_norm\n",
    "def convert_to_seconds(time_str):\n",
    "    mins, sec, millisec = time_str.split('.')\n",
    "    total_milliseconds = (int(mins)*60*1000)+ (int(sec)*1000)+ int(millisec)\n",
    "    seconds = total_milliseconds/1000\n",
    "    return seconds"
   ]
  },
  {
   "cell_type": "code",
   "execution_count": 3,
   "id": "b102f144",
   "metadata": {},
   "outputs": [],
   "source": [
    "#importing raw data\n",
    "details_rawdata = pd.read_csv(r'race_details_20240101_20240131.csv', encoding='utf-8' )\n",
    "results_rawdata = pd.read_csv(r'race_results_20240101_20240131.csv', encoding='utf-8') #to display Turkish characters correctly"
   ]
  },
  {
   "cell_type": "markdown",
   "id": "e8751b71",
   "metadata": {},
   "source": [
    "**Data cleaning, pre-processing and feature-engineering:**"
   ]
  },
  {
   "cell_type": "code",
   "execution_count": 4,
   "id": "4229cf59",
   "metadata": {},
   "outputs": [
    {
     "name": "stdout",
     "output_type": "stream",
     "text": [
      "'no. of unique values: result' - 19\n",
      "'no. of unique values: horse_age' - 9\n",
      "'no. of unique values: horse_sex' - 2\n",
      "'no. of unique values: jockey_weight' - 15\n",
      "'no. of unique values: horse_win_value' - 1093\n",
      "'no. of unique values: horse_psf_rate' - 76\n",
      "'no. of unique values: race_type' - 20\n",
      "'no. of unique values: race_age_group' - 2\n",
      "'no. of unique values: race_track_type' - 2\n",
      "'no. of unique values: race_track_condition' - 4\n",
      "'no. of unique values: race_info' - 480\n",
      "'no. of unique values: race_id' - 480\n",
      "'no. of unique values: speed' - 3692\n",
      "row numbers with nan values: []\n"
     ]
    }
   ],
   "source": [
    "#merge race details into race results\n",
    "race_combo = pd.merge(results_rawdata, details_rawdata, on=['race_date', 'race_city', 'race_no'], how='left')\n",
    "race_combo['race_info'] = race_combo['race_date'].astype(str) + '_' + race_combo['race_city'] + '_' + race_combo['race_no'].astype(str)\n",
    "race_combo['race_id'] = pd.factorize(race_combo['race_info'])[0] + 1 \n",
    "race_combo.to_excel(r'race_combo5.xlsx', index=False)\n",
    "\n",
    "#group by race_info and rescale 'result' column between 0 and 1\n",
    "race_combo_grouped = race_combo.groupby('race_info')\n",
    "\n",
    "race_combo['horse_age'] = race_combo['horse_age'].str.replace('y', '').astype(int)\n",
    "race_combo['race_age_group'] = race_combo['race_age_group'].str.extract('(\\d+)', expand=False).astype(int)\n",
    "#replace abpve line with simpler grad level ver do a if statement  and replace years old and yeard and up \n",
    "#just as horse _age is done\n",
    "\n",
    "#encoding\n",
    "columns_to_encode = ['horse_age', 'race_type', 'race_age_group','race_track_type', 'race_track_condition']\n",
    "\n",
    "race_combo = race_combo.rename(columns={'horse_race_degree': 'finish_time'})\n",
    "race_combo['finish_time'] = race_combo['finish_time'].replace('Derecesiz', np.nan)# fill undetermined time \n",
    "race_combo['finish_time'] = race_combo['finish_time'].apply(lambda x: convert_to_seconds(x) if pd.notnull(x) else np.nan)\n",
    "\n",
    "#new combination feature\n",
    "race_combo['speed'] = race_combo.apply(lambda row: row['race_length'] / row['finish_time'], axis=1)\n",
    "race_combo['speed'] = normalize(race_combo, 'speed')\n",
    "\n",
    "#dropped\n",
    "race_combo = race_combo.drop(['finish_time','race_length',\"race_race_group\",\"horse_rate\",\"horse_psf_rank\",\"best_rating\",\n",
    "                              \"race_sex_group\",\"Horse_starting_box_no\",\"jockey_name\",\"race_no\",\"race_date\",'horse_trainer', \n",
    "                              'horse_owner', 'race_city','horse_name','horse_origin', 'horse_sire','horse_dam', 'hors_broodmare_sire',\n",
    "                              'horse_margin', 'horse_late_start', 'horse_accessories', 'Horse_starting_box_no' ] , axis=1)\n",
    "\n",
    "race_combo['horse_sex'] = race_combo['horse_sex'].map({'m': 0, 'f': 1})\n",
    "if set(race_combo['horse_sex']) - {0, 1}:# this checks if vals are 0 or 1 but instead of doing this count num of unique values \n",
    "    print(\"Invalid values found in 'horse_sex' column.\")\n",
    "race_combo['race_age_group'] = race_combo['race_age_group'].map({3: 0, 4: 1})\n",
    "race_combo['race_track_type'] = race_combo['race_track_type'].map({\"Dirt\": 0, \"Dirt (Polytrack)\": 1})\n",
    "race_combo['horse_win_value'] = race_combo['horse_win_value'].astype(float)#check if i should remove for better performance\n",
    "\n",
    "# one-hot encode categorical columns\n",
    "# rescale columns between 0 and 1\n",
    "columns_to_rescale = ['jockey_weight', 'horse_win_value', 'horse_psf_rate']\n",
    "for column in columns_to_rescale:\n",
    "    race_combo[column] = normalize(race_combo, column)\n",
    "    \n",
    "for column in race_combo.columns:\n",
    "    unique_values = race_combo[column].nunique()\n",
    "    print(f\"'no. of unique values: {column}' - {unique_values}\")\n",
    "\n",
    "race_combo_encoded = pd.get_dummies(race_combo, columns=columns_to_encode, drop_first=True)\n",
    "\n",
    "race_combo_encoded = race_combo_encoded.dropna() #drops any rows with 0 cells , check how many dropped\n",
    "\n",
    "# check if a column is bool and convert true to 1 and false to 0\n",
    "for column in race_combo_encoded.columns:\n",
    "    if race_combo_encoded[column].dtype == bool:\n",
    "        race_combo_encoded[column] = race_combo_encoded[column].astype(int)#useful if exporting and importing with excel files\n",
    "        #not needed for csv and df\n",
    "\n",
    "race_combo_encodedLGBM = race_combo_encoded\n",
    "\n",
    "#checking for missing/nan cells\n",
    "nan_rows = race_combo_encoded[race_combo_encoded.isnull().any(axis=1)]\n",
    "nan_row_numbers = nan_rows.index.tolist()\n",
    "print(f\"row numbers with nan values: {nan_row_numbers}\")\n"
   ]
  },
  {
   "cell_type": "code",
   "execution_count": 5,
   "id": "8c5579bc",
   "metadata": {},
   "outputs": [],
   "source": [
    "#importing cleaned data (if needed)\n",
    "#race_combo_encodedLGBM = pd.read_csv(r'race_combo_encodedLGBM.csv', encoding='utf-8' )"
   ]
  },
  {
   "cell_type": "code",
   "execution_count": 6,
   "id": "600d0f15",
   "metadata": {},
   "outputs": [],
   "source": [
    "#exporting clean data\n",
    "#race_combo_encodedLGBM.to_csv(r'race_combo_encodedLGBM.csv', index=False)"
   ]
  },
  {
   "cell_type": "code",
   "execution_count": 7,
   "id": "68bdd01a",
   "metadata": {},
   "outputs": [],
   "source": [
    "# Extract testing dataset\n",
    "unique_races = race_combo_encodedLGBM['race_info'].unique()[:10]\n",
    "testing_dataset = race_combo_encodedLGBM[race_combo_encodedLGBM['race_info'].isin(unique_races)].copy()\n",
    "race_combo_encodedLGBM = race_combo_encodedLGBM[~race_combo_encodedLGBM['race_info'].isin(unique_races)].copy()\n",
    "\n",
    "groups = race_combo_encodedLGBM.groupby('race_id').size().values#tells you how many horses in each race\n",
    "#the model will know a list of variable input sizes (group or race sizes)\n",
    "X_train = race_combo_encodedLGBM.drop(columns=['result', 'race_info', 'race_id'])\n",
    "\n",
    "#check if any nulls nans here\n",
    "y_train = race_combo_encodedLGBM['result']\n",
    "\n",
    "# Group testing dataset by race_id\n",
    "testing_groups = testing_dataset.groupby('race_id')\n"
   ]
  },
  {
   "cell_type": "code",
   "execution_count": 17,
   "id": "82846375",
   "metadata": {
    "scrolled": true
   },
   "outputs": [
    {
     "name": "stdout",
     "output_type": "stream",
     "text": [
      "[LightGBM] [Warning] Found whitespace in feature_names, replace with underlines\n",
      "[LightGBM] [Info] Auto-choosing row-wise multi-threading, the overhead of testing was 0.000189 seconds.\n",
      "You can set `force_row_wise=true` to remove the overhead.\n",
      "And if memory is not enough, you can set `force_col_wise=true`.\n",
      "[LightGBM] [Info] Total Bins 648\n",
      "[LightGBM] [Info] Number of data points in the train set: 4156, number of used features: 32\n",
      "Total Match: 41 (53.95%)\n",
      "Total Close: 23 (30.26%)\n",
      "Total Incorrect: 12 (15.79%)\n",
      "example:\n"
     ]
    },
    {
     "data": {
      "text/html": [
       "<div>\n",
       "<style scoped>\n",
       "    .dataframe tbody tr th:only-of-type {\n",
       "        vertical-align: middle;\n",
       "    }\n",
       "\n",
       "    .dataframe tbody tr th {\n",
       "        vertical-align: top;\n",
       "    }\n",
       "\n",
       "    .dataframe thead th {\n",
       "        text-align: right;\n",
       "    }\n",
       "</style>\n",
       "<table border=\"1\" class=\"dataframe\">\n",
       "  <thead>\n",
       "    <tr style=\"text-align: right;\">\n",
       "      <th></th>\n",
       "      <th>Actual</th>\n",
       "      <th>Predicted</th>\n",
       "      <th>custom_metric</th>\n",
       "    </tr>\n",
       "  </thead>\n",
       "  <tbody>\n",
       "    <tr>\n",
       "      <th>69</th>\n",
       "      <td>1</td>\n",
       "      <td>1.0</td>\n",
       "      <td>CORRECT</td>\n",
       "    </tr>\n",
       "    <tr>\n",
       "      <th>70</th>\n",
       "      <td>2</td>\n",
       "      <td>2.0</td>\n",
       "      <td>CORRECT</td>\n",
       "    </tr>\n",
       "    <tr>\n",
       "      <th>71</th>\n",
       "      <td>3</td>\n",
       "      <td>4.0</td>\n",
       "      <td>CLOSE</td>\n",
       "    </tr>\n",
       "    <tr>\n",
       "      <th>72</th>\n",
       "      <td>4</td>\n",
       "      <td>3.0</td>\n",
       "      <td>CLOSE</td>\n",
       "    </tr>\n",
       "    <tr>\n",
       "      <th>73</th>\n",
       "      <td>5</td>\n",
       "      <td>7.0</td>\n",
       "      <td>INCORRECT</td>\n",
       "    </tr>\n",
       "    <tr>\n",
       "      <th>74</th>\n",
       "      <td>6</td>\n",
       "      <td>5.0</td>\n",
       "      <td>CLOSE</td>\n",
       "    </tr>\n",
       "    <tr>\n",
       "      <th>75</th>\n",
       "      <td>7</td>\n",
       "      <td>6.0</td>\n",
       "      <td>CLOSE</td>\n",
       "    </tr>\n",
       "  </tbody>\n",
       "</table>\n",
       "</div>"
      ],
      "text/plain": [
       "    Actual  Predicted custom_metric\n",
       "69       1        1.0       CORRECT\n",
       "70       2        2.0       CORRECT\n",
       "71       3        4.0         CLOSE\n",
       "72       4        3.0         CLOSE\n",
       "73       5        7.0     INCORRECT\n",
       "74       6        5.0         CLOSE\n",
       "75       7        6.0         CLOSE"
      ]
     },
     "execution_count": 17,
     "metadata": {},
     "output_type": "execute_result"
    }
   ],
   "source": [
    "from sklearn.model_selection import train_test_split\n",
    "from sklearn.metrics import mean_squared_error\n",
    "import lightgbm as lgb\n",
    "\n",
    "#si seeded at a good acc\n",
    "\n",
    "lgb_ranker = lgb.LGBMRanker(boosting_type='gbdt', num_leaves=31, max_depth=-1, learning_rate=0.1, \n",
    "                            n_estimators=100, subsample_for_bin=200000, random_state=42)\n",
    "\n",
    "#y_train is ranks (1,2,3...etc)\n",
    "lgb_ranker.fit(X_train, y_train, group=groups)\n",
    "\n",
    "#initialize totals\n",
    "total_match = 0\n",
    "total_close = 0\n",
    "total_incorrect = 0\n",
    "total_rows = 0\n",
    "\n",
    "#loop through each group and create X_test and y_test\n",
    "for race_id, group in testing_groups:\n",
    "    X_test = group.drop(columns=['result', 'race_info', 'race_id'])\n",
    "    y_test = group['result']\n",
    "    \n",
    "    #perform prediction for the current group\n",
    "    y_pred = lgb_ranker.predict(X_test)\n",
    "    ranked_pred = pd.Series(y_pred).rank(ascending=True).tolist()\n",
    "         \n",
    "    comparison_df = pd.DataFrame({\n",
    "        'Actual': y_test,\n",
    "        'Predicted': ranked_pred\n",
    "    })\n",
    "    \n",
    "    #update 'custom_metric' based on the conditions\n",
    "    comparison_df['custom_metric'] = 'INCORRECT'  # initialize all as 'INCORRECT'\n",
    "    comparison_df.loc[comparison_df['Predicted'] == comparison_df['Actual'], 'custom_metric'] = 'CORRECT'\n",
    "    comparison_df.loc[(abs(comparison_df['Predicted'] - comparison_df['Actual']) <= 1) & (comparison_df['Predicted'] != comparison_df['Actual']), 'custom_metric'] = 'CLOSE'\n",
    "    \n",
    "    #count the number of each category\n",
    "    match_count = comparison_df[comparison_df['custom_metric'] == 'CORRECT'].shape[0]\n",
    "    close_count = comparison_df[comparison_df['custom_metric'] == 'CLOSE'].shape[0]\n",
    "    incorrect_count = comparison_df[comparison_df['custom_metric'] == 'INCORRECT'].shape[0]\n",
    "    \n",
    "    #update the total counts\n",
    "    total_match += match_count\n",
    "    total_close += close_count\n",
    "    total_incorrect += incorrect_count\n",
    "    total_rows += comparison_df.shape[0]\n",
    "    #print(comparison_df)\n",
    "\n",
    "#calculate the percentages\n",
    "match_percentage = (total_match / total_rows) * 100\n",
    "close_percentage = (total_close / total_rows) * 100\n",
    "incorrect_percentage = (total_incorrect / total_rows) * 100\n",
    "\n",
    "#print the total counts and percentages\n",
    "print(f\"Total Match: {total_match} ({match_percentage:.2f}%)\")\n",
    "print(f\"Total Close: {total_close} ({close_percentage:.2f}%)\")\n",
    "print(f\"Total Incorrect: {total_incorrect} ({incorrect_percentage:.2f}%)\")\n",
    "print('example:')\n",
    "comparison_df "
   ]
  },
  {
   "cell_type": "code",
   "execution_count": 18,
   "id": "3e335ec0",
   "metadata": {},
   "outputs": [
    {
     "data": {
      "image/png": "[encoded data removed]",
      "text/plain": [
       "<Figure size 1000x600 with 1 Axes>"
      ]
     },
     "metadata": {},
     "output_type": "display_data"
    }
   ],
   "source": [
    "# 1. Residual Plot\n",
    "residuals = y_test - y_pred\n",
    "plt.figure(figsize=(10, 6))\n",
    "sns.scatterplot(x=y_pred, y=residuals)\n",
    "plt.axhline(y=0, color='red', linestyle='--')\n",
    "plt.xlabel(\"Predicted Values\")\n",
    "plt.ylabel(\"Residuals\")\n",
    "plt.title(\"Residual Plot\")\n",
    "plt.show()\n"
   ]
  },
  {
   "cell_type": "code",
   "execution_count": 14,
   "id": "efc24e68",
   "metadata": {},
   "outputs": [
    {
     "ename": "AttributeError",
     "evalue": "module 'lightgbm' has no attribute 'GBMRanker'",
     "output_type": "error",
     "traceback": [
      "\u001b[1;31m---------------------------------------------------------------------------\u001b[0m",
      "\u001b[1;31mAttributeError\u001b[0m                            Traceback (most recent call last)",
      "Cell \u001b[1;32mIn[14], line 1\u001b[0m\n\u001b[1;32m----> 1\u001b[0m lgb\u001b[38;5;241m.\u001b[39mGBMRanker\u001b[38;5;241m.\u001b[39mevals_result_\n",
      "\u001b[1;31mAttributeError\u001b[0m: module 'lightgbm' has no attribute 'GBMRanker'"
     ]
    }
   ],
   "source": [
    "lgb.GBMRanker.evals_result_"
   ]
  },
  {
   "cell_type": "code",
   "execution_count": 11,
   "id": "06d2ef6c",
   "metadata": {},
   "outputs": [
    {
     "ename": "AttributeError",
     "evalue": "module 'lightgbm' has no attribute 'feature_importances_'",
     "output_type": "error",
     "traceback": [
      "\u001b[1;31m---------------------------------------------------------------------------\u001b[0m",
      "\u001b[1;31mAttributeError\u001b[0m                            Traceback (most recent call last)",
      "Cell \u001b[1;32mIn[11], line 2\u001b[0m\n\u001b[0;32m      1\u001b[0m \u001b[38;5;66;03m# Feature Importance Plot\u001b[39;00m\n\u001b[1;32m----> 2\u001b[0m importances \u001b[38;5;241m=\u001b[39m lgb\u001b[38;5;241m.\u001b[39mfeature_importances_\n\u001b[0;32m      3\u001b[0m indices \u001b[38;5;241m=\u001b[39m np\u001b[38;5;241m.\u001b[39margsort(importances)[::\u001b[38;5;241m-\u001b[39m\u001b[38;5;241m1\u001b[39m]\n\u001b[0;32m      4\u001b[0m features \u001b[38;5;241m=\u001b[39m X_train\u001b[38;5;241m.\u001b[39mcolumns \u001b[38;5;28;01mif\u001b[39;00m \u001b[38;5;28mhasattr\u001b[39m(X_train, \u001b[38;5;124m'\u001b[39m\u001b[38;5;124mcolumns\u001b[39m\u001b[38;5;124m'\u001b[39m) \u001b[38;5;28;01melse\u001b[39;00m \u001b[38;5;28mrange\u001b[39m(X_train\u001b[38;5;241m.\u001b[39mshape[\u001b[38;5;241m1\u001b[39m])\n",
      "\u001b[1;31mAttributeError\u001b[0m: module 'lightgbm' has no attribute 'feature_importances_'"
     ]
    }
   ],
   "source": [
    "\n",
    "\n",
    "# Feature Importance Plot\n",
    "importances = lgb.feature_importances_\n",
    "indices = np.argsort(importances)[::-1]\n",
    "features = X_train.columns if hasattr(X_train, 'columns') else range(X_train.shape[1])\n",
    "\n",
    "plt.figure(figsize=(10, 6))\n",
    "plt.bar(range(len(importances)), importances[indices], align=\"center\")\n",
    "plt.xticks(range(len(importances)), [features[i] for i in indices], rotation=90)\n",
    "plt.title(\"Feature Importance Plot\")\n",
    "plt.xlabel(\"Features\")\n",
    "plt.ylabel(\"Importance\")\n",
    "plt.show()"
   ]
  },
  {
   "cell_type": "code",
   "execution_count": null,
   "id": "44d9bfb9",
   "metadata": {},
   "outputs": [],
   "source": []
  }
 ],
 "metadata": {
  "kernelspec": {
   "display_name": "Python 3 (ipykernel)",
   "language": "python",
   "name": "python3"
  },
  "language_info": {
   "codemirror_mode": {
    "name": "ipython",
    "version": 3
   },
   "file_extension": ".py",
   "mimetype": "text/x-python",
   "name": "python",
   "nbconvert_exporter": "python",
   "pygments_lexer": "ipython3",
   "version": "3.11.3"
  }
 },
 "nbformat": 4,
 "nbformat_minor": 5
}
